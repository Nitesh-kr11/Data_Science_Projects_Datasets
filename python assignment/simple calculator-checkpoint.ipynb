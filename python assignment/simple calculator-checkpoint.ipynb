{
 "cells": [
  {
   "cell_type": "code",
   "execution_count": 1,
   "id": "e9d0a031",
   "metadata": {},
   "outputs": [
    {
     "name": "stdout",
     "output_type": "stream",
     "text": [
      "Enter first number: 25\n",
      "Enter second number: 32\n",
      "CHOICE OF OPERATION: +, -, *, /\n",
      "ENTER YOUR CHOICE: /\n",
      "25.0 / 32.0 = 0.78125\n"
     ]
    }
   ],
   "source": [
    "# PROGRAM TO MAKE A SIMPLE CALCULATOR\n",
    "\n",
    "# INPUT TWO NUMBERS\n",
    "num1 = float(input(\"Enter first number: \"))\n",
    "num2 = float(input(\"Enter second number: \"))\n",
    "\n",
    "# ENTER CHOICE OF OPERATION\n",
    "    #ENTER + FOR ADDITION\n",
    "    #ENTER - FOR SUBSTRACTION\n",
    "    #ENTER * FOR MULTIPLICATION\n",
    "    #ENTER / FOR DIVISION\n",
    "print(\"CHOICE OF OPERATION: +, -, *, /\")\n",
    "ch = input(\"ENTER YOUR CHOICE: \")\n",
    "\n",
    "# CHECKING THE OPERATION AND DISPLAYING THE RESULT\n",
    "if ch == \"+\":\n",
    "    print(num1, \"+\", num2, \"=\", num1+num2)\n",
    "\n",
    "elif ch == \"-\":\n",
    "    print(num1, \"-\", num2, \"=\", num1-num2)\n",
    "\n",
    "elif ch == \"*\":\n",
    "    print(num1, \"*\", num2, \"=\", num1*num2)\n",
    "\n",
    "elif ch == \"/\":\n",
    "    print(num1, \"/\", num2, \"=\", num1/num2)\n",
    "\n",
    "else:\n",
    "    print(\"YOU ENTERED A WRONG CHOICE\")"
   ]
  },
  {
   "cell_type": "code",
   "execution_count": null,
   "id": "1231eaba",
   "metadata": {},
   "outputs": [],
   "source": []
  }
 ],
 "metadata": {
  "kernelspec": {
   "display_name": "Python 3",
   "language": "python",
   "name": "python3"
  },
  "language_info": {
   "codemirror_mode": {
    "name": "ipython",
    "version": 3
   },
   "file_extension": ".py",
   "mimetype": "text/x-python",
   "name": "python",
   "nbconvert_exporter": "python",
   "pygments_lexer": "ipython3",
   "version": "3.8.8"
  }
 },
 "nbformat": 4,
 "nbformat_minor": 5
}
