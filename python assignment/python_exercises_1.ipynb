{
 "cells": [
  {
   "cell_type": "markdown",
   "id": "e0fedcd7",
   "metadata": {},
   "source": [
    "# Exercise 1: Mailing Address\n",
    "    Create a program that displays your name and complete mailing address formatted in the manner that you would usually see it on the outside of an envelope. Your program does not need to read any input from the user"
   ]
  },
  {
   "cell_type": "code",
   "execution_count": 1,
   "id": "1129ec67",
   "metadata": {},
   "outputs": [
    {
     "name": "stdout",
     "output_type": "stream",
     "text": [
      "To,\n",
      "NITESH KUMAR SHARMA\n",
      "BASE ROAD HILL COLONY QRTS NO-5A/5B\n",
      "CHITTARANJAN WEST BENGAL\n",
      "PIN CODE:713331\n",
      "MOB: +91-987654321\n"
     ]
    }
   ],
   "source": [
    "#THIS PROGRAM BASICALLY PRINTS THE MAILING ADDRESS IN THEIR FORMAT\n",
    "\n",
    "print(\"To,\")\n",
    "print(\"NITESH KUMAR SHARMA\")\n",
    "print(\"BASE ROAD HILL COLONY QRTS NO-5A/5B\")\n",
    "print(\"CHITTARANJAN\", \"WEST BENGAL\")\n",
    "print(\"PIN CODE:713331\")\n",
    "print(\"MOB: +91-987654321\")\n"
   ]
  },
  {
   "cell_type": "markdown",
   "id": "b71e8c7a",
   "metadata": {},
   "source": [
    "# Exercise 2: Hello\n",
    "    Write a program that asks the user to enter his or her name. The program should respond with a message that says hello to the user, using his or her name"
   ]
  },
  {
   "cell_type": "code",
   "execution_count": 2,
   "id": "49810375",
   "metadata": {},
   "outputs": [
    {
     "name": "stdout",
     "output_type": "stream",
     "text": [
      "Please Enter Your Name : Nitesh\n",
      "Hello Nitesh !!!\n"
     ]
    }
   ],
   "source": [
    "# THE PROGRAM ASKS THE USER TO ENTER THE NAME AND PRINTS THE NAME WISHING HIM/HER HELLO\n",
    "\n",
    "# Ask the user to enter name\n",
    "name=input(\"Please Enter Your Name : \") \n",
    "print(f\"Hello {name} !!!\")"
   ]
  },
  {
   "cell_type": "markdown",
   "id": "1eaf9ef7",
   "metadata": {},
   "source": [
    "# Exercise 3: Area of a Room\n",
    "    Write a program that asks the user to enter the width and lengthof a room. Once the values have been read, your program should compute and display the area of the room. The length and the width will be entered as floating-pointnumbers. Include units in your prompt and output message; either feet or meters, depending on which unit you are more comfortable working with"
   ]
  },
  {
   "cell_type": "code",
   "execution_count": 3,
   "id": "c1187c72",
   "metadata": {},
   "outputs": [
    {
     "name": "stdout",
     "output_type": "stream",
     "text": [
      "Enter the length of the room (in meters) : 5\n",
      "Enter the width of the room (in meters) : 10\n",
      "The Length is 5.0 m and the width is 10.0 m. The Area of the room is 50.0 square meter\n"
     ]
    }
   ],
   "source": [
    "#THIS PROGRAM CALCULATES THE AREA OF A ROOM TAKING THE DIMENSIONS AS INPUT FROM THE USER  \n",
    "\n",
    "\n",
    "# TAKING THE DIMENSION OF THE ROOM\n",
    "length = float (input (\"Enter the length of the room (in meters) : \")) \n",
    "width = float (input (\"Enter the width of the room (in meters) : \")) \n",
    "\n",
    "# CALCULATING THE AREA  \n",
    "area = length * width   \n",
    "\n",
    "# DISPLAYING THE RESULT \n",
    "print (\"The Length is {} m and the width is {} m. The Area of the room is {} square meter\".format(length,width,area) ) "
   ]
  },
  {
   "cell_type": "markdown",
   "id": "aa9aeabf",
   "metadata": {},
   "source": [
    "# Exercise 4: Area of a Field\n",
    "    Create a program that reads the length and width of a farmer’s field from the user in feet. Display the area of the field in acres.Hint: There are 43,560 square feet in an acre"
   ]
  },
  {
   "cell_type": "code",
   "execution_count": 5,
   "id": "8abdc643",
   "metadata": {
    "scrolled": true
   },
   "outputs": [
    {
     "name": "stdout",
     "output_type": "stream",
     "text": [
      "Enter the length of the field (in feet) : 100\n",
      "Enter the width of the field (in feet) : 300\n",
      "The Length of the field is 100.0 feet and the width is 300.0 feet.\n",
      "The area of the field  in ACERS is 0.6887052341597796 acres.\n"
     ]
    }
   ],
   "source": [
    "# THE PROGRAM TAKES THE DIMENSION OF A FARMERS FIELD AND CALCULATES THE AREA AND DISPLAYS IN ACERS\n",
    "# GIVEN THAT 1 ACRE= 43560 SQUARE FEET\n",
    "\n",
    "# TAKING THE DIMENSION OF THE FARMERS FIELD BY THE USER\n",
    "length = float (input (\"Enter the length of the field (in feet) : \")) \n",
    "width = float (input (\"Enter the width of the field (in feet) : \")) \n",
    "\n",
    "# CALCULATING THE AREA IN ACRES\n",
    "one_acre=43560\n",
    "acres = (length * width) / one_acre\n",
    "\n",
    "# DISPLAYING THE RESULT\n",
    "print (\"The Length of the field is {} feet and the width is {} feet.\".format(length,width) ) \n",
    "print (f\"The area of the field  in ACERS is {acres} acres.\") "
   ]
  },
  {
   "cell_type": "markdown",
   "id": "0fd1e43c",
   "metadata": {},
   "source": [
    "# Exercise 5: Bottle Deposits\n",
    "    In many jurisdictions a small deposit is added to drink containers to encourage people to recycle them. In one particular jurisdiction, drink containers holding one litreor less have a $0.10 deposit, and drink containers holding more than one litrehave a $0.25 deposit. Write a program that reads the number of containers of each size from the user. Your program should continue by computing and displaying the refund that will be received for returning those containers. Format the output so that it includes a dollar sign and always displays exactly two decimal places"
   ]
  },
  {
   "cell_type": "code",
   "execution_count": 16,
   "id": "5f528be0",
   "metadata": {},
   "outputs": [
    {
     "name": "stdout",
     "output_type": "stream",
     "text": [
      "Enter the number of less than 1 litre container : 20\n",
      "Enter the number of more than 1 litre container :  30\n",
      "The total number of less than 1 litre container is 20 and More than 1 litre container is 30 \n",
      "The total refund amount is 9.50 $.\n"
     ]
    }
   ],
   "source": [
    "#THE PROGRAM COMPUTES THE REFUND RECEIVED ON RETURNING THE DRINKING CONTAINER LESS THEN 1 LITRE AND MORE THAN O1 LITRE\n",
    "#GIVEN THAT LESS THAT 1 LITRE RATE IS 0.10$/CONTAINER AND MORE THAN 1 LITRE IS 0.25$/CONTAINER\n",
    "LESS_DEPOSIT = 0.10 \n",
    "MORE_DEPOSIT = 0.25 \n",
    "\n",
    "# ENTERS THE NUMBER OF CONTAINERS OF EACH SIZE\n",
    "less = int (input (\"Enter the number of less than 1 litre container : \")) \n",
    "more = int (input (\"Enter the number of more than 1 litre container :  \")) \n",
    "\n",
    "# CALCULATING THE REFUND AMOUNT\n",
    "\n",
    "refund = float(less * 0.10 + more * 0.25)\n",
    "\n",
    "# DISPLAYING THE RESULT \n",
    "print(\"The total number of less than 1 litre container is {} and More than 1 litre container is {} \".format(less,more))\n",
    "print (\"The total refund amount is {:.2f} $.\" .format(refund)) "
   ]
  },
  {
   "cell_type": "markdown",
   "id": "16e7532c",
   "metadata": {},
   "source": [
    "# Exercise 6: Tax and Tip\n",
    "    The program that you create for this exercise will begin by reading the cost of a meal ordered at a restaurant from the user. Then your program will compute the tax and tip for the meal. Use your local tax rate when computing the amount of tax owing. Compute the tip as 18 percent of the meal amount (without the tax). The output from your program should include the tax amount, the tip amount, and the grand total for the meal including both the Python Exercises\n",
    " tax and the tip. Format the output so that all of the values are displayed using two decimal places"
   ]
  },
  {
   "cell_type": "code",
   "execution_count": 17,
   "id": "387756dd",
   "metadata": {},
   "outputs": [
    {
     "name": "stdout",
     "output_type": "stream",
     "text": [
      "Enter the cost of the Meal: 1000\n",
      "The calculated tax is : Rs 50.00\n",
      "The calculated tip is : Rs 180.00\n",
      "The total cos of meal including tax & tip is Rs 1230.00\n"
     ]
    }
   ],
   "source": [
    "#THE PROGRAM CALCULATES THE TAX AND TIPS PAID BY A CUSTOMER IN A RESTAURANT FOR A MEAL. \n",
    "# GIVEN THAT LOCAL RATE OF TAX =5% AND TIP=18% (withot tax) OF THE MEAL AMOUNT.\n",
    "\n",
    "# INPUT THE COST OF MEAL FROM THE USER\n",
    "cost = float (input (\"Enter the cost of the Meal: \")) \n",
    "\n",
    "\n",
    "# TO CALCULATE THE TAX AND TAKE WE WILL TAKE THE RATE OF TAX AS 5/100=0.05 AND TIP 18/100=0.18\n",
    "\n",
    "# CALCULATION OF TAX AND TIP\n",
    "rate_tax=0.05\n",
    "rate_tip=0.18\n",
    "tax = cost * rate_tax\n",
    "tip = cost * rate_tip \n",
    "amount = cost + tax + tip \n",
    "\n",
    "# DISPLYING THE OUTPUT\n",
    "print (\"The calculated tax is : Rs {:.2f}\" .format(tax))\n",
    "print (\"The calculated tip is : Rs {:.2f}\" .format(tip))\n",
    "print (\"The total cos of meal including tax & tip is Rs {:.2f}\" .format(amount))"
   ]
  },
  {
   "cell_type": "markdown",
   "id": "dc0c988b",
   "metadata": {},
   "source": [
    "# Exercise 7: Fuel Efficiency\n",
    "    In the United States, fuel efficiency for vehicles is normally expressed in miles-per  gallon (MPG). In Canada, fuel efficiency is normally expressed in litres-per-hundred kilometres(L/100 km). Use your research skills to determine how to convert from MPG to L/100 km. Then create a program that reads a value from the user in American units and displays the equivalent fuel efficiency in Canadian units"
   ]
  },
  {
   "cell_type": "code",
   "execution_count": 24,
   "id": "71ebb862",
   "metadata": {},
   "outputs": [
    {
     "name": "stdout",
     "output_type": "stream",
     "text": [
      "Enter Fuel Efficiency in Miles Per Gallon (MPG): 35\n",
      "The equivalent fuel efficiency is : 6.72 L/100km\n"
     ]
    }
   ],
   "source": [
    "#THE PROGRAM TAKEA THE FUEL EFFICIENY OF UNITED STATES AND CONVERTS IT INTO FUEL EFFICIENCY AS PER CANADA\n",
    "#GIVEN THAT IN US FUEL EFFICIENCY IS EXPRESSED IN MILES/GALLON(MPG) AND IN CANADA LITRES/100 KM (L/100KM)\n",
    "#1 mile = 1.609344 kilometers\n",
    "#1 US gallon = 3.78541178 litres\n",
    "\n",
    "#TAKING THE FUEL EFFECIENCY FROM THE USER\n",
    "eff = float(input(\"Enter Fuel Efficiency in Miles Per Gallon (MPG): \"))\n",
    "l=((3.785*100)/1.609)/eff\n",
    "\n",
    "#DISPLAYING THE EFFICIENCY IN LITRES/100KM\n",
    "print(\"The equivalent fuel efficiency is : {:.2f} L/100km\".format(l)) "
   ]
  },
  {
   "cell_type": "markdown",
   "id": "bdd56daa",
   "metadata": {},
   "source": [
    "# Exercise 8: Height Units\n",
    "    Many people think about their height in feet and inches, even in some countries that primarily use the metric system. Write a program that reads a number of feet from the user, followed by a number of inches. Once these values are read, your program shouldcompute and display the equivalent number of centimetres.Hint: One foot is 12 inches. One inch is 2.54 centimetres"
   ]
  },
  {
   "cell_type": "code",
   "execution_count": 25,
   "id": "c78a7a00",
   "metadata": {},
   "outputs": [
    {
     "name": "stdout",
     "output_type": "stream",
     "text": [
      "Enter your height in feets and inches\n",
      "\n",
      "Feets: 5\n",
      "Inches: 8\n",
      "\n",
      "Height in centimeters is : 172.72 cm\n"
     ]
    }
   ],
   "source": [
    "# THIS PROGRAM CONVERTS THE HEIGHT TAKEN IN FEET AND INCHES TO CENTIMETERS\n",
    "#GIVEN THAT 1FOOT=12 INCHES AND 1 INCH=2.54 CENTIMETRES\n",
    "\n",
    "#TAKING THE HEIGHT AS INPUT FROM THE USER\n",
    "print(\"Enter your height in feets and inches\\n\")\n",
    "feet = int(input(\"Feets: \"))\n",
    "inches = float(input(\"Inches: \"))\n",
    "\n",
    "#CALCULATING THE EQUIVALENT HEIGHT IN CENTIMETERS\n",
    "height = (inches*2.54) + (feet*12*2.54)\n",
    "\n",
    "#DISPLAYIN THE HEIGHT IN CENTIMETERS\n",
    "print(\"\\nHeight in centimeters is : {:.2f} cm\".format(height))"
   ]
  },
  {
   "cell_type": "code",
   "execution_count": null,
   "id": "e0320d12",
   "metadata": {},
   "outputs": [],
   "source": []
  }
 ],
 "metadata": {
  "kernelspec": {
   "display_name": "Python 3",
   "language": "python",
   "name": "python3"
  },
  "language_info": {
   "codemirror_mode": {
    "name": "ipython",
    "version": 3
   },
   "file_extension": ".py",
   "mimetype": "text/x-python",
   "name": "python",
   "nbconvert_exporter": "python",
   "pygments_lexer": "ipython3",
   "version": "3.8.8"
  }
 },
 "nbformat": 4,
 "nbformat_minor": 5
}
